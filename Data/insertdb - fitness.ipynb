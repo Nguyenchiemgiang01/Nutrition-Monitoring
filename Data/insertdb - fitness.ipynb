{
 "cells": [
  {
   "cell_type": "code",
   "execution_count": 6,
   "metadata": {},
   "outputs": [],
   "source": [
    "import pandas as pd\n",
    "import mysql.connector\n",
    "from mysql.connector import errorcode"
   ]
  },
  {
   "cell_type": "code",
   "execution_count": 9,
   "metadata": {},
   "outputs": [],
   "source": [
    "df = pd.read_excel(\"fitness.xlsx\")"
   ]
  },
  {
   "cell_type": "code",
   "execution_count": 11,
   "metadata": {},
   "outputs": [
    {
     "data": {
      "text/plain": [
       "pandas.core.frame.DataFrame"
      ]
     },
     "execution_count": 11,
     "metadata": {},
     "output_type": "execute_result"
    }
   ],
   "source": [
    "type(df)"
   ]
  },
  {
   "cell_type": "code",
   "execution_count": 14,
   "metadata": {},
   "outputs": [
    {
     "name": "stdout",
     "output_type": "stream",
     "text": [
      "Dữ liệu đã được ghi vào MySQL thành công!\n"
     ]
    }
   ],
   "source": [
    "\n",
    "\n",
    "\n",
    "# Kết nối tới MySQL\n",
    "try:\n",
    "    cnx = mysql.connector.connect(\n",
    "    host=\"localhost\",\n",
    "    user=\"root\",\n",
    "    password=\"Ncgncg1102\",\n",
    "    database=\"nutrition_monitoring\"\n",
    "    )\n",
    "    cursor = cnx.cursor()\n",
    "    \n",
    "    for index, row in df.iterrows():\n",
    "        # Chỉ định các cột và giá trị tương ứng\n",
    "        insert_query = \"\"\"\n",
    "        INSERT INTO exercise (Name, CaloriesPerHour)\n",
    "        VALUES (%s, %s)\n",
    "        \"\"\"\n",
    "        # Chuẩn bị các giá trị, đảm bảo đúng thứ tự\n",
    "        data = (\n",
    "            row['Name'],  \n",
    "            row['Calories/hr'],  \n",
    "        )\n",
    "    # Thực thi truy vấn với dữ liệu đúng\n",
    "        cursor.execute(\"SET innodb_lock_wait_timeout = 60000\")\n",
    "        cursor.execute(insert_query, data)\n",
    "        \n",
    "    \n",
    "\n",
    "    cnx.commit()\n",
    "\n",
    "except mysql.connector.Error as err:\n",
    "    if err.errno == errorcode.ER_ACCESS_DENIED_ERROR:\n",
    "        print(\"Thông tin tài khoản hoặc mật khẩu không đúng\")\n",
    "    elif err.errno == errorcode.ER_BAD_DB_ERROR:\n",
    "        print(\"Cơ sở dữ liệu không tồn tại\")\n",
    "    else:\n",
    "        print(err)\n",
    "finally:\n",
    "    cursor.close()\n",
    "    cnx.close()\n",
    "\n",
    "print(\"Dữ liệu đã được ghi vào MySQL thành công!\")\n"
   ]
  },
  {
   "cell_type": "code",
   "execution_count": 24,
   "metadata": {},
   "outputs": [
    {
     "name": "stdout",
     "output_type": "stream",
     "text": [
      "<class 'pandas.core.frame.DataFrame'>\n",
      "RangeIndex: 1401982 entries, 0 to 1401981\n",
      "Data columns (total 8 columns):\n",
      " #   Column         Non-Null Count    Dtype \n",
      "---  ------         --------------    ----- \n",
      " 0   ReviewId       1401982 non-null  int64 \n",
      " 1   RecipeId       1401982 non-null  int64 \n",
      " 2   AuthorId       1401982 non-null  int64 \n",
      " 3   AuthorName     1401982 non-null  object\n",
      " 4   Rating         1401982 non-null  int64 \n",
      " 5   Review         1401768 non-null  object\n",
      " 6   DateSubmitted  1401982 non-null  object\n",
      " 7   DateModified   1401982 non-null  object\n",
      "dtypes: int64(4), object(4)\n",
      "memory usage: 85.6+ MB\n"
     ]
    }
   ],
   "source": [
    "review.info()"
   ]
  },
  {
   "cell_type": "code",
   "execution_count": 25,
   "metadata": {},
   "outputs": [],
   "source": [
    "dataset=review.copy()\n",
    "columns=['RecipeId','AuthorId','Rating','AuthorName']\n",
    "dataset=dataset[columns]\n",
    "dataset[\"AuthorId\"]=dataset[\"AuthorId\"].astype(str)\n",
    "unique_authors = dataset.drop_duplicates(subset='AuthorId', keep='first')\n",
    "unique_authorss = unique_authors.drop_duplicates(subset='AuthorName', keep='first')\n",
    "# unique_authors = dataset.groupby('AuthorId', as_index=False).first()\n"
   ]
  },
  {
   "cell_type": "code",
   "execution_count": 26,
   "metadata": {},
   "outputs": [],
   "source": [
    "duplicate_rows = unique_authorss[unique_authorss.duplicated(subset='AuthorName', keep=False)]"
   ]
  },
  {
   "cell_type": "code",
   "execution_count": 27,
   "metadata": {},
   "outputs": [
    {
     "data": {
      "text/html": [
       "<div>\n",
       "<style scoped>\n",
       "    .dataframe tbody tr th:only-of-type {\n",
       "        vertical-align: middle;\n",
       "    }\n",
       "\n",
       "    .dataframe tbody tr th {\n",
       "        vertical-align: top;\n",
       "    }\n",
       "\n",
       "    .dataframe thead th {\n",
       "        text-align: right;\n",
       "    }\n",
       "</style>\n",
       "<table border=\"1\" class=\"dataframe\">\n",
       "  <thead>\n",
       "    <tr style=\"text-align: right;\">\n",
       "      <th></th>\n",
       "      <th>RecipeId</th>\n",
       "      <th>AuthorId</th>\n",
       "      <th>Rating</th>\n",
       "      <th>AuthorName</th>\n",
       "    </tr>\n",
       "  </thead>\n",
       "  <tbody>\n",
       "  </tbody>\n",
       "</table>\n",
       "</div>"
      ],
      "text/plain": [
       "Empty DataFrame\n",
       "Columns: [RecipeId, AuthorId, Rating, AuthorName]\n",
       "Index: []"
      ]
     },
     "execution_count": 27,
     "metadata": {},
     "output_type": "execute_result"
    }
   ],
   "source": [
    "duplicate_rows"
   ]
  },
  {
   "cell_type": "code",
   "execution_count": 28,
   "metadata": {},
   "outputs": [
    {
     "data": {
      "text/plain": [
       "271907"
      ]
     },
     "execution_count": 28,
     "metadata": {},
     "output_type": "execute_result"
    }
   ],
   "source": [
    "len(unique_authors)"
   ]
  },
  {
   "cell_type": "code",
   "execution_count": 29,
   "metadata": {},
   "outputs": [
    {
     "name": "stdout",
     "output_type": "stream",
     "text": [
      "<class 'pandas.core.frame.DataFrame'>\n",
      "RangeIndex: 1401982 entries, 0 to 1401981\n",
      "Data columns (total 4 columns):\n",
      " #   Column      Non-Null Count    Dtype \n",
      "---  ------      --------------    ----- \n",
      " 0   RecipeId    1401982 non-null  int64 \n",
      " 1   AuthorId    1401982 non-null  object\n",
      " 2   Rating      1401982 non-null  int64 \n",
      " 3   AuthorName  1401982 non-null  object\n",
      "dtypes: int64(2), object(2)\n",
      "memory usage: 42.8+ MB\n"
     ]
    }
   ],
   "source": [
    "dataset.info()"
   ]
  },
  {
   "cell_type": "code",
   "execution_count": 30,
   "metadata": {},
   "outputs": [],
   "source": [
    "# # recipe=recipe.fillna(\"\")\n",
    "# # Cắt ngắn những phần tử có độ dài lớn hơn 200 ký tự\n",
    "# recipe['RecipeIngredientParts'] = recipe['RecipeIngredientParts'].apply(\n",
    "#     lambda x: x[:1000] if len(x) > 1000 else x\n",
    "# )\n",
    "# recipe['RecipeInstructions'] = recipe['RecipeInstructions'].apply(\n",
    "#     lambda y: y[:1000] if len(y) > 1000 else y)"
   ]
  },
  {
   "cell_type": "code",
   "execution_count": 31,
   "metadata": {},
   "outputs": [],
   "source": [
    "# review=review.iloc[500000:]"
   ]
  },
  {
   "cell_type": "code",
   "execution_count": 32,
   "metadata": {},
   "outputs": [
    {
     "data": {
      "text/plain": [
       "241365"
      ]
     },
     "execution_count": 32,
     "metadata": {},
     "output_type": "execute_result"
    }
   ],
   "source": [
    "len(unique_authorss)"
   ]
  },
  {
   "cell_type": "code",
   "execution_count": 33,
   "metadata": {},
   "outputs": [],
   "source": [
    "unique_authorsss=unique_authorss[2500:2501]\n"
   ]
  },
  {
   "cell_type": "code",
   "execution_count": 34,
   "metadata": {},
   "outputs": [
    {
     "name": "stdout",
     "output_type": "stream",
     "text": [
      "<class 'pandas.core.frame.DataFrame'>\n",
      "Index: 1 entries, 6351 to 6351\n",
      "Data columns (total 4 columns):\n",
      " #   Column      Non-Null Count  Dtype \n",
      "---  ------      --------------  ----- \n",
      " 0   RecipeId    1 non-null      int64 \n",
      " 1   AuthorId    1 non-null      object\n",
      " 2   Rating      1 non-null      int64 \n",
      " 3   AuthorName  1 non-null      object\n",
      "dtypes: int64(2), object(2)\n",
      "memory usage: 40.0+ bytes\n"
     ]
    }
   ],
   "source": [
    "unique_authorsss.info()"
   ]
  },
  {
   "cell_type": "code",
   "execution_count": 35,
   "metadata": {},
   "outputs": [],
   "source": [
    "import mysql.connector\n",
    "import pandas as pd\n",
    "\n",
    "# Tạo kết nối với cơ sở dữ liệu\n",
    "conn = mysql.connector.connect(\n",
    "    host=\"localhost\",\n",
    "    user=\"root\",\n",
    "    password=\"Ncgncg1102\",\n",
    "    database=\"nutrition_monitoring\"\n",
    ")\n",
    "\n",
    "cursor = conn.cursor()\n",
    "\n",
    "\n",
    "\n",
    "# Chèn dữ liệu vào bảng User\n",
    "for index, row in unique_authorsss.iterrows():\n",
    "    # Chỉ định các cột và giá trị tương ứng\n",
    "    insert_query = \"\"\"\n",
    "    INSERT INTO User (UserId, Username, Password, Email, Name, Type)\n",
    "    VALUES (%s, %s, %s, %s, %s, %s)\n",
    "    \"\"\"\n",
    "    # Chuẩn bị các giá trị, đảm bảo đúng thứ tự\n",
    "    data = (\n",
    "        row['AuthorId'],  # UserId\n",
    "        row['AuthorName'],       # Username\n",
    "        \"\",   # Password\n",
    "        \"\",    # Email\n",
    "        \"\",            # Name\n",
    "        \"\"            # Type\n",
    "    )\n",
    "    # Thực thi truy vấn với dữ liệu đúng\n",
    "    cursor.execute(\"SET innodb_lock_wait_timeout = 60000\")\n",
    "    cursor.execute(insert_query, data)\n",
    "\n",
    "# Xác nhận thay đổi vào cơ sở dữ liệu\n",
    "conn.commit()\n",
    "\n",
    "# Đóng kết nối\n",
    "cursor.close()\n",
    "conn.close()\n"
   ]
  }
 ],
 "metadata": {
  "kernelspec": {
   "display_name": "Python 3",
   "language": "python",
   "name": "python3"
  },
  "language_info": {
   "codemirror_mode": {
    "name": "ipython",
    "version": 3
   },
   "file_extension": ".py",
   "mimetype": "text/x-python",
   "name": "python",
   "nbconvert_exporter": "python",
   "pygments_lexer": "ipython3",
   "version": "3.10.6"
  }
 },
 "nbformat": 4,
 "nbformat_minor": 2
}

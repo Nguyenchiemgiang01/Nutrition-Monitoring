{
 "cells": [
  {
   "cell_type": "code",
   "execution_count": 1,
   "metadata": {},
   "outputs": [
    {
     "name": "stdout",
     "output_type": "stream",
     "text": [
      "WARNING:tensorflow:From c:\\Users\\nguye\\AppData\\Local\\Programs\\Python\\Python310\\lib\\site-packages\\keras\\src\\losses.py:2976: The name tf.losses.sparse_softmax_cross_entropy is deprecated. Please use tf.compat.v1.losses.sparse_softmax_cross_entropy instead.\n",
      "\n"
     ]
    }
   ],
   "source": [
    "import pandas as pd\n",
    "import numpy as np\n",
    "import tensorflow as tf\n",
    "import matplotlib.pyplot as plt"
   ]
  },
  {
   "cell_type": "code",
   "execution_count": 2,
   "metadata": {},
   "outputs": [],
   "source": [
    "data=pd.read_csv('recipes.csv')"
   ]
  },
  {
   "cell_type": "code",
   "execution_count": 18,
   "metadata": {},
   "outputs": [
    {
     "data": {
      "text/plain": [
       "<pandas.core.indexing._LocIndexer at 0x22c86a87290>"
      ]
     },
     "execution_count": 18,
     "metadata": {},
     "output_type": "execute_result"
    }
   ],
   "source": [
    "data.loc(0)"
   ]
  },
  {
   "cell_type": "code",
   "execution_count": 4,
   "metadata": {},
   "outputs": [
    {
     "name": "stdout",
     "output_type": "stream",
     "text": [
      "<class 'pandas.core.frame.DataFrame'>\n",
      "RangeIndex: 522517 entries, 0 to 522516\n",
      "Data columns (total 28 columns):\n",
      " #   Column                      Non-Null Count   Dtype  \n",
      "---  ------                      --------------   -----  \n",
      " 0   RecipeId                    522517 non-null  int64  \n",
      " 1   Name                        522517 non-null  object \n",
      " 2   AuthorId                    522517 non-null  int64  \n",
      " 3   AuthorName                  522517 non-null  object \n",
      " 4   CookTime                    439972 non-null  object \n",
      " 5   PrepTime                    522517 non-null  object \n",
      " 6   TotalTime                   522517 non-null  object \n",
      " 7   DatePublished               522517 non-null  object \n",
      " 8   Description                 522512 non-null  object \n",
      " 9   Images                      522516 non-null  object \n",
      " 10  RecipeCategory              521766 non-null  object \n",
      " 11  Keywords                    505280 non-null  object \n",
      " 12  RecipeIngredientQuantities  522514 non-null  object \n",
      " 13  RecipeIngredientParts       522517 non-null  object \n",
      " 14  AggregatedRating            269294 non-null  float64\n",
      " 15  ReviewCount                 275028 non-null  float64\n",
      " 16  Calories                    522517 non-null  float64\n",
      " 17  FatContent                  522517 non-null  float64\n",
      " 18  SaturatedFatContent         522517 non-null  float64\n",
      " 19  CholesterolContent          522517 non-null  float64\n",
      " 20  SodiumContent               522517 non-null  float64\n",
      " 21  CarbohydrateContent         522517 non-null  float64\n",
      " 22  FiberContent                522517 non-null  float64\n",
      " 23  SugarContent                522517 non-null  float64\n",
      " 24  ProteinContent              522517 non-null  float64\n",
      " 25  RecipeServings              339606 non-null  float64\n",
      " 26  RecipeYield                 174446 non-null  object \n",
      " 27  RecipeInstructions          522517 non-null  object \n",
      "dtypes: float64(12), int64(2), object(14)\n",
      "memory usage: 111.6+ MB\n"
     ]
    }
   ],
   "source": [
    "data.info()"
   ]
  },
  {
   "cell_type": "code",
   "execution_count": 22,
   "metadata": {},
   "outputs": [],
   "source": [
    "dataset=data.copy()\n",
    "columns=['RecipeId','Name','Calories','FatContent','SaturatedFatContent','CholesterolContent','SodiumContent','CarbohydrateContent','FiberContent','SugarContent','ProteinContent']\n",
    "dataset=dataset[columns]\n"
   ]
  },
  {
   "cell_type": "code",
   "execution_count": 24,
   "metadata": {},
   "outputs": [
    {
     "name": "stdout",
     "output_type": "stream",
     "text": [
      "<class 'pandas.core.frame.DataFrame'>\n",
      "RangeIndex: 522517 entries, 0 to 522516\n",
      "Data columns (total 11 columns):\n",
      " #   Column               Non-Null Count   Dtype  \n",
      "---  ------               --------------   -----  \n",
      " 0   RecipeId             522517 non-null  int64  \n",
      " 1   Name                 522517 non-null  object \n",
      " 2   Calories             522517 non-null  float64\n",
      " 3   FatContent           522517 non-null  float64\n",
      " 4   SaturatedFatContent  522517 non-null  float64\n",
      " 5   CholesterolContent   522517 non-null  float64\n",
      " 6   SodiumContent        522517 non-null  float64\n",
      " 7   CarbohydrateContent  522517 non-null  float64\n",
      " 8   FiberContent         522517 non-null  float64\n",
      " 9   SugarContent         522517 non-null  float64\n",
      " 10  ProteinContent       522517 non-null  float64\n",
      "dtypes: float64(9), int64(1), object(1)\n",
      "memory usage: 43.9+ MB\n"
     ]
    }
   ],
   "source": [
    "dataset.info()"
   ]
  },
  {
   "cell_type": "code",
   "execution_count": null,
   "metadata": {},
   "outputs": [],
   "source": []
  }
 ],
 "metadata": {
  "kernelspec": {
   "display_name": "Python 3",
   "language": "python",
   "name": "python3"
  },
  "language_info": {
   "codemirror_mode": {
    "name": "ipython",
    "version": 3
   },
   "file_extension": ".py",
   "mimetype": "text/x-python",
   "name": "python",
   "nbconvert_exporter": "python",
   "pygments_lexer": "ipython3",
   "version": "3.10.6"
  }
 },
 "nbformat": 4,
 "nbformat_minor": 2
}
